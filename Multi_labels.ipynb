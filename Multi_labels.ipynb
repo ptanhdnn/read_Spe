{
  "nbformat": 4,
  "nbformat_minor": 0,
  "metadata": {
    "colab": {
      "name": "Multi_labels.ipynb",
      "provenance": [],
      "authorship_tag": "ABX9TyNkKFhUiAPn21HVIoxtljpp",
      "include_colab_link": true
    },
    "kernelspec": {
      "name": "python3",
      "display_name": "Python 3"
    },
    "language_info": {
      "name": "python"
    }
  },
  "cells": [
    {
      "cell_type": "markdown",
      "metadata": {
        "id": "view-in-github",
        "colab_type": "text"
      },
      "source": [
        "<a href=\"https://colab.research.google.com/github/ptanhdnn/read_Spe/blob/master/Multi_labels.ipynb\" target=\"_parent\"><img src=\"https://colab.research.google.com/assets/colab-badge.svg\" alt=\"Open In Colab\"/></a>"
      ]
    },
    {
      "cell_type": "code",
      "execution_count": 1,
      "metadata": {
        "id": "QKIzwr_z3TYt"
      },
      "outputs": [],
      "source": [
        "import tensorflow as tf\n",
        "from tensorflow import keras\n",
        "from tensorflow.keras.models import Sequential\n",
        "from tensorflow.keras.layers import Dense, Dropout, Flatten, Activation\n",
        "from tensorflow.keras.optimizers import Adam, SGD\n",
        "from tensorflow.keras.metrics import categorical_crossentropy\n",
        "from sklearn.metrics import multilabel_confusion_matrix"
      ]
    },
    {
      "cell_type": "code",
      "source": [
        "import numpy as np\n",
        "import pandas as pd\n",
        "import matplotlib.pyplot as plt\n",
        "from sklearn.model_selection import train_test_split\n",
        "from sklearn.preprocessing import MinMaxScaler\n",
        "from sklearn.metrics import classification_report\n",
        "from sklearn.metrics import accuracy_score, precision_score, recall_score, f1_score\n",
        "import seaborn as sns"
      ],
      "metadata": {
        "id": "yr2Z_mpQANtH"
      },
      "execution_count": 2,
      "outputs": []
    },
    {
      "cell_type": "code",
      "source": [
        "data = pd.read_csv(\"/content/spectra.csv\")\n",
        "\n",
        "X = data.drop([\"Cs_137\",\"Co_60\",\"Am_241\",\"RGU\",\"RGTh\",\"RGK\"], axis = 1)\n",
        "Y = data.loc[:,['Cs_137','Co_60','Am_241','RGU','RGTh','RGK']]\n",
        "\n",
        "X_train, X_test, y_train, y_test = train_test_split(X, Y, test_size = 0.3, random_state = 18)\n",
        "id_name = X_train[\"File_name\"]\n",
        "\n",
        "X_train_drop = X_train.drop([\"File_name\"], axis = 1)\n",
        "X_test_drop = X_test.drop([\"File_name\"], axis = 1)\n",
        "\n",
        "# Normalization\n",
        "\n",
        "vector_train = X_train_drop.values\n",
        "\n",
        "scaler = MinMaxScaler()\n",
        "scaler.fit(vector_train.T)\n",
        "scaler_rows = scaler.transform(vector_train.T).T\n",
        "X_train_scaler = pd.DataFrame(data = scaler_rows, columns = X_train_drop.columns)\n",
        "X_test_scaler = pd.DataFrame(data = scaler.fit_transform(X_test_drop.values.T).T, columns = X_test_drop.columns)"
      ],
      "metadata": {
        "id": "xqMVZox5AuOw"
      },
      "execution_count": 3,
      "outputs": []
    },
    {
      "cell_type": "markdown",
      "source": [
        "Encode_y"
      ],
      "metadata": {
        "id": "Vb-HV3GEmdmY"
      }
    },
    {
      "cell_type": "code",
      "source": [
        "index_train = y_train.index\n",
        "index_test  = y_test.index\n",
        "\n",
        "# y_train_list\n",
        "encode_list_train = []\n",
        "encode_list_test  = []\n",
        "def encode_string(lst):\n",
        "  string = ''\n",
        "  string = ''.join(str(element) for element in lst)\n",
        "  return string\n",
        "\n",
        "def decode_list(string):\n",
        "  lst = list(string.split(''))\n",
        "  return lst\n",
        "\n",
        "for i in range(len(index_train)):\n",
        "  row = y_train.iloc[i].tolist()\n",
        "  encode_list_train.append(encode_string(row))\n",
        "\n",
        "for i in range(len(index_test)):\n",
        "  rw = y_test.iloc[i].tolist()\n",
        "  encode_list_test.append(encode_string(rw))\n",
        "\n",
        "encode_y_train = pd.DataFrame(data = encode_list_train, index = index_train)\n",
        "encode_y_test  = pd.DataFrame(data = encode_list_test, index = index_test)"
      ],
      "metadata": {
        "id": "6mAmBXbFmbex"
      },
      "execution_count": 4,
      "outputs": []
    },
    {
      "cell_type": "markdown",
      "source": [
        "Decision Tree Algorithm"
      ],
      "metadata": {
        "id": "R5c9rn6SnRD3"
      }
    },
    {
      "cell_type": "code",
      "source": [
        "from sklearn.tree import DecisionTreeClassifier\n",
        "from sklearn import tree\n",
        "from sklearn.metrics import plot_confusion_matrix\n",
        "\n",
        "clf2 = DecisionTreeClassifier(random_state= 18, max_depth= 6)\n",
        "clf2.fit(X_train_scaler, encode_y_train)\n",
        "y_pred = clf2.predict(X_test_scaler)\n",
        "\n",
        "y_train_pred = clf2.predict(X_train_scaler)\n",
        "\n",
        "text_representation = tree.export_text(clf2)\n",
        "\n",
        "print(text_representation)\n",
        "\n",
        "print(accuracy_score(encode_y_train, y_train_pred), round(accuracy_score(encode_list_test, y_pred),2))"
      ],
      "metadata": {
        "colab": {
          "base_uri": "https://localhost:8080/"
        },
        "id": "_lNazSUanPAo",
        "outputId": "f0732a3d-69f2-4321-8ada-844944a62a80"
      },
      "execution_count": 5,
      "outputs": [
        {
          "output_type": "stream",
          "name": "stdout",
          "text": [
            "|--- feature_478 <= 0.55\n",
            "|   |--- feature_681 <= 0.03\n",
            "|   |   |--- feature_491 <= 0.01\n",
            "|   |   |   |--- feature_677 <= 0.00\n",
            "|   |   |   |   |--- feature_1925 <= 0.00\n",
            "|   |   |   |   |   |--- class: 001000\n",
            "|   |   |   |   |--- feature_1925 >  0.00\n",
            "|   |   |   |   |   |--- class: 001001\n",
            "|   |   |   |--- feature_677 >  0.00\n",
            "|   |   |   |   |--- class: 011000\n",
            "|   |   |--- feature_491 >  0.01\n",
            "|   |   |   |--- feature_169 <= 0.01\n",
            "|   |   |   |   |--- feature_1749 <= 0.00\n",
            "|   |   |   |   |   |--- class: 101000\n",
            "|   |   |   |   |--- feature_1749 >  0.00\n",
            "|   |   |   |   |   |--- class: 101001\n",
            "|   |   |   |--- feature_169 >  0.01\n",
            "|   |   |   |   |--- feature_1551 <= 0.00\n",
            "|   |   |   |   |   |--- feature_12 <= 0.16\n",
            "|   |   |   |   |   |   |--- class: 100000\n",
            "|   |   |   |   |   |--- feature_12 >  0.16\n",
            "|   |   |   |   |   |   |--- class: 110000\n",
            "|   |   |   |   |--- feature_1551 >  0.00\n",
            "|   |   |   |   |   |--- feature_1458 <= 0.00\n",
            "|   |   |   |   |   |   |--- class: 100001\n",
            "|   |   |   |   |   |--- feature_1458 >  0.00\n",
            "|   |   |   |   |   |   |--- class: 000011\n",
            "|   |--- feature_681 >  0.03\n",
            "|   |   |--- feature_717 <= 0.03\n",
            "|   |   |   |--- class: 000001\n",
            "|   |   |--- feature_717 >  0.03\n",
            "|   |   |   |--- class: 010000\n",
            "|--- feature_478 >  0.55\n",
            "|   |--- class: 110000\n",
            "\n",
            "0.9871244635193133 0.9\n"
          ]
        }
      ]
    },
    {
      "cell_type": "markdown",
      "source": [
        "Random Forest Algorithm"
      ],
      "metadata": {
        "id": "zS2N6dTImxTl"
      }
    },
    {
      "cell_type": "code",
      "source": [
        "from sklearn.ensemble import RandomForestClassifier\n",
        "from sklearn.model_selection import GridSearchCV\n",
        "from sklearn import metrics\n",
        "from sklearn.metrics import plot_confusion_matrix\n",
        "\n",
        "\n",
        "forest = RandomForestClassifier(n_estimators = 100, criterion = \"entropy\",max_features = \"log2\", random_state = 18, bootstrap = True)\n",
        "forest.fit(X_train_scaler, encode_y_train)\n",
        "y_pred2 = forest.predict(X_train_scaler)\n",
        "y_pred1 = forest.predict(X_test_scaler)\n",
        "\n",
        "plot_confusion_matrix(forest, X_test_scaler, encode_y_test)\n",
        "print(\"Accuracy:\",metrics.accuracy_score(encode_list_test, y_pred1))\n",
        "print(\"Accuracy:\",metrics.accuracy_score(encode_list_train, y_pred2))\n",
        "print(classification_report(encode_list_test, y_pred1))"
      ],
      "metadata": {
        "colab": {
          "base_uri": "https://localhost:8080/",
          "height": 720
        },
        "id": "aBXR1Tbfg3B2",
        "outputId": "12020b01-a84e-488e-dea2-99bc98e33c47"
      },
      "execution_count": 6,
      "outputs": [
        {
          "output_type": "stream",
          "name": "stderr",
          "text": [
            "/usr/local/lib/python3.7/dist-packages/ipykernel_launcher.py:8: DataConversionWarning: A column-vector y was passed when a 1d array was expected. Please change the shape of y to (n_samples,), for example using ravel().\n",
            "  \n",
            "/usr/local/lib/python3.7/dist-packages/sklearn/utils/deprecation.py:87: FutureWarning: Function plot_confusion_matrix is deprecated; Function `plot_confusion_matrix` is deprecated in 1.0 and will be removed in 1.2. Use one of the class methods: ConfusionMatrixDisplay.from_predictions or ConfusionMatrixDisplay.from_estimator.\n",
            "  warnings.warn(msg, category=FutureWarning)\n"
          ]
        },
        {
          "output_type": "stream",
          "name": "stdout",
          "text": [
            "Accuracy: 0.97\n",
            "Accuracy: 1.0\n",
            "              precision    recall  f1-score   support\n",
            "\n",
            "      000001       1.00      0.94      0.97        18\n",
            "      000011       0.75      1.00      0.86         3\n",
            "      001000       1.00      0.89      0.94         9\n",
            "      001001       0.83      1.00      0.91         5\n",
            "      010000       1.00      1.00      1.00        20\n",
            "      011000       1.00      1.00      1.00        15\n",
            "      100000       1.00      0.83      0.91         6\n",
            "      100001       0.67      1.00      0.80         2\n",
            "      101000       1.00      1.00      1.00         6\n",
            "      101001       1.00      1.00      1.00         7\n",
            "      110000       1.00      1.00      1.00         9\n",
            "\n",
            "    accuracy                           0.97       100\n",
            "   macro avg       0.93      0.97      0.94       100\n",
            "weighted avg       0.98      0.97      0.97       100\n",
            "\n"
          ]
        },
        {
          "output_type": "display_data",
          "data": {
            "text/plain": [
              "<Figure size 432x288 with 2 Axes>"
            ],
            "image/png": "[encoded data removed]"
          },
          "metadata": {
            "needs_background": "light"
          }
        }
      ]
    },
    {
      "cell_type": "markdown",
      "source": [
        "XGBoost Algorithm"
      ],
      "metadata": {
        "id": "1QPpuvaToBfG"
      }
    },
    {
      "cell_type": "code",
      "source": [
        "from xgboost.sklearn import XGBModel\n",
        "import xgboost as xgb\n",
        "from xgboost import plot_tree\n",
        "from sklearn import metrics\n",
        "\n",
        "xgb_model = xgb.XGBClassifier(objective = \"multi:softprob\", n_estimators = 200, max_depth = 2, learning_rate = 0.04, random_state = 18)\n",
        "xgb_model.fit(X_train_scaler, encode_y_train)\n",
        "\n",
        "y_pred = xgb_model.predict(X_test_scaler)\n",
        "\n",
        "print(\"Accuracy:\",metrics.accuracy_score(encode_list_test, y_pred))\n",
        "print(classification_report(encode_list_test, y_pred))"
      ],
      "metadata": {
        "colab": {
          "base_uri": "https://localhost:8080/"
        },
        "id": "xEitnv1Vm9Vu",
        "outputId": "2d81ded6-36e7-41e0-f05d-8b2b8c57fcfd"
      },
      "execution_count": 7,
      "outputs": [
        {
          "output_type": "stream",
          "name": "stderr",
          "text": [
            "/usr/local/lib/python3.7/dist-packages/sklearn/preprocessing/_label.py:98: DataConversionWarning: A column-vector y was passed when a 1d array was expected. Please change the shape of y to (n_samples, ), for example using ravel().\n",
            "  y = column_or_1d(y, warn=True)\n",
            "/usr/local/lib/python3.7/dist-packages/sklearn/preprocessing/_label.py:133: DataConversionWarning: A column-vector y was passed when a 1d array was expected. Please change the shape of y to (n_samples, ), for example using ravel().\n",
            "  y = column_or_1d(y, warn=True)\n"
          ]
        },
        {
          "output_type": "stream",
          "name": "stdout",
          "text": [
            "Accuracy: 0.95\n",
            "              precision    recall  f1-score   support\n",
            "\n",
            "      000001       1.00      0.94      0.97        18\n",
            "      000011       0.75      1.00      0.86         3\n",
            "      001000       0.80      0.89      0.84         9\n",
            "      001001       0.83      1.00      0.91         5\n",
            "      010000       1.00      0.90      0.95        20\n",
            "      011000       0.94      1.00      0.97        15\n",
            "      100000       1.00      1.00      1.00         6\n",
            "      100001       1.00      1.00      1.00         2\n",
            "      101000       1.00      1.00      1.00         6\n",
            "      101001       1.00      1.00      1.00         7\n",
            "      110000       1.00      0.89      0.94         9\n",
            "\n",
            "    accuracy                           0.95       100\n",
            "   macro avg       0.94      0.97      0.95       100\n",
            "weighted avg       0.96      0.95      0.95       100\n",
            "\n"
          ]
        }
      ]
    },
    {
      "cell_type": "markdown",
      "source": [
        "Build model Neural network"
      ],
      "metadata": {
        "id": "JWcPqX1qCh1U"
      }
    },
    {
      "cell_type": "code",
      "source": [
        "from sklearn.multioutput import MultiOutputClassifier\n",
        "from sklearn.ensemble import RandomForestClassifier\n",
        "\n",
        "forest = RandomForestClassifier(criterion=\"entropy\")\n",
        "#clf = MultiOutputClassifier(forest)\n",
        "forest.fit(X_train_scaler, y_train)\n",
        "y_pred = forest.predict(X_test_scaler)\n",
        "y_pred_train = forest.predict(X_train_scaler)\n",
        "y_pred\n",
        "#print(\"Accuracy of prediction data:\",sklearn.metrics.accuracy_score(y_test, y_pred))\n",
        "#print(\"Accuracy of training data:\",metrics.accuracy_score(y_train, y_pred_train))\n",
        "print(classification_report(y_test, y_pred))\n",
        "#from sklearn import metrics\n",
        "#multilabel_confusion_matrix(y_test, y_pred)"
      ],
      "metadata": {
        "colab": {
          "base_uri": "https://localhost:8080/"
        },
        "id": "8gGYSSIb8Dl3",
        "outputId": "46ff1846-fcff-4c85-e19f-5c8934448f27"
      },
      "execution_count": 8,
      "outputs": [
        {
          "output_type": "stream",
          "name": "stdout",
          "text": [
            "              precision    recall  f1-score   support\n",
            "\n",
            "           0       1.00      1.00      1.00        30\n",
            "           1       1.00      0.98      0.99        44\n",
            "           2       1.00      1.00      1.00        42\n",
            "           3       0.00      0.00      0.00         0\n",
            "           4       0.75      1.00      0.86         3\n",
            "           5       0.95      1.00      0.97        35\n",
            "\n",
            "   micro avg       0.98      0.99      0.99       154\n",
            "   macro avg       0.78      0.83      0.80       154\n",
            "weighted avg       0.98      0.99      0.99       154\n",
            " samples avg       0.98      0.99      0.99       154\n",
            "\n"
          ]
        },
        {
          "output_type": "stream",
          "name": "stderr",
          "text": [
            "/usr/local/lib/python3.7/dist-packages/sklearn/metrics/_classification.py:1318: UndefinedMetricWarning: Precision and F-score are ill-defined and being set to 0.0 in labels with no predicted samples. Use `zero_division` parameter to control this behavior.\n",
            "  _warn_prf(average, modifier, msg_start, len(result))\n",
            "/usr/local/lib/python3.7/dist-packages/sklearn/metrics/_classification.py:1318: UndefinedMetricWarning: Recall and F-score are ill-defined and being set to 0.0 in labels with no true samples. Use `zero_division` parameter to control this behavior.\n",
            "  _warn_prf(average, modifier, msg_start, len(result))\n"
          ]
        }
      ]
    }
  ]
}